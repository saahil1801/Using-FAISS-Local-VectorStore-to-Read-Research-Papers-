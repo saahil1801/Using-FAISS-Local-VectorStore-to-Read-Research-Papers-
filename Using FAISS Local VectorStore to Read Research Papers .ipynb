{
 "cells": [
  {
   "cell_type": "code",
   "execution_count": 1,
   "id": "f807f859-c82a-43a2-bbde-65528bf0a7dc",
   "metadata": {},
   "outputs": [],
   "source": [
    "import os\n",
    "\n",
    "os.environ[\"OPENAI_API_KEY\"] = \"openapi-key\""
   ]
  },
  {
   "cell_type": "code",
   "execution_count": 2,
   "id": "c303c2af-4005-41d7-81d9-5cf327ec9219",
   "metadata": {},
   "outputs": [],
   "source": [
    "from langchain.document_loaders import PyPDFLoader\n",
    "from langchain.text_splitter import CharacterTextSplitter\n",
    "from langchain.embeddings.openai import OpenAIEmbeddings\n",
    "from langchain.vectorstores import FAISS"
   ]
  },
  {
   "cell_type": "code",
   "execution_count": 3,
   "id": "4fcfc8b1-2593-4478-86c6-cc31aec0ce66",
   "metadata": {},
   "outputs": [],
   "source": [
    "from langchain.chains import RetrievalQA\n",
    "from langchain.llms import OpenAI"
   ]
  },
  {
   "cell_type": "code",
   "execution_count": 8,
   "id": "675702ae-1f5c-4fb0-a0f7-7fc3650e844b",
   "metadata": {},
   "outputs": [],
   "source": [
    "pdf_path='C://Users//saahi//Downloads//Final+Paper-1.docx+(1)+--+AL.pdf'"
   ]
  },
  {
   "cell_type": "code",
   "execution_count": 11,
   "id": "91bf87c5-66b9-413c-8a1f-2b7a465a3de6",
   "metadata": {},
   "outputs": [],
   "source": [
    "loader = PyPDFLoader(file_path=pdf_path)"
   ]
  },
  {
   "cell_type": "code",
   "execution_count": 13,
   "id": "a0c8fc14-942c-4250-bf09-4dbec5982a69",
   "metadata": {},
   "outputs": [],
   "source": [
    "documents = loader.load()"
   ]
  },
  {
   "cell_type": "code",
   "execution_count": 14,
   "id": "497b9f5f-2e3f-4c4b-9651-a950c97469cd",
   "metadata": {},
   "outputs": [],
   "source": [
    "text_splitter = CharacterTextSplitter(\n",
    "        chunk_size=1000, chunk_overlap=30, separator=\"\\n\"\n",
    "    )\n",
    "docs = text_splitter.split_documents(documents=documents)"
   ]
  },
  {
   "cell_type": "code",
   "execution_count": 15,
   "id": "276deb1a-5b69-4f16-8da9-16947245048a",
   "metadata": {},
   "outputs": [],
   "source": [
    "embeddings = OpenAIEmbeddings()"
   ]
  },
  {
   "cell_type": "code",
   "execution_count": 21,
   "id": "7c486f41-bbc8-48e4-86e4-59905748e99f",
   "metadata": {},
   "outputs": [],
   "source": [
    "vectorstore = FAISS.from_documents(docs, embeddings)"
   ]
  },
  {
   "cell_type": "code",
   "execution_count": 22,
   "id": "878985eb-774a-418e-8b75-5a0660cfe78b",
   "metadata": {},
   "outputs": [],
   "source": [
    "qa = RetrievalQA.from_chain_type(\n",
    "        llm=OpenAI(), chain_type=\"stuff\", retriever=vectorstore.as_retriever()\n",
    ")"
   ]
  },
  {
   "cell_type": "code",
   "execution_count": 25,
   "id": "82698c23-1905-4246-b221-236588f8b751",
   "metadata": {},
   "outputs": [],
   "source": [
    "res = qa.run(\"Give me a jist of the project in 5 sentences\")"
   ]
  },
  {
   "cell_type": "code",
   "execution_count": 26,
   "id": "940b07ab-0318-4310-850f-11339501e9a4",
   "metadata": {},
   "outputs": [
    {
     "data": {
      "text/plain": [
       "' This project explored the analysis and detection of spam messages using machine learning and deep learning strategies. Data was obtained from the SMS Spam collection, which is open to the public and has around 5574 items. A naive Bayes classifier was trained using the data and tokens were tokenized. The data was represented in the form of a sparse matrix with 5574 rows and 7958 columns. Lastly, the classifier was able to detect spam messages based on the words used in the message.'"
      ]
     },
     "execution_count": 26,
     "metadata": {},
     "output_type": "execute_result"
    }
   ],
   "source": [
    "res"
   ]
  },
  {
   "cell_type": "code",
   "execution_count": null,
   "id": "4966199e-3aa1-47b6-ba71-982e180f3a09",
   "metadata": {},
   "outputs": [],
   "source": []
  }
 ],
 "metadata": {
  "kernelspec": {
   "display_name": "Python 3 (ipykernel)",
   "language": "python",
   "name": "python3"
  },
  "language_info": {
   "codemirror_mode": {
    "name": "ipython",
    "version": 3
   },
   "file_extension": ".py",
   "mimetype": "text/x-python",
   "name": "python",
   "nbconvert_exporter": "python",
   "pygments_lexer": "ipython3",
   "version": "3.10.13"
  }
 },
 "nbformat": 4,
 "nbformat_minor": 5
}
